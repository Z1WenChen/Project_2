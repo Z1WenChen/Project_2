{
 "cells": [
  {
   "cell_type": "code",
   "execution_count": 1,
   "id": "c951e0c0-d029-4623-8fb6-9f7a16e3eda5",
   "metadata": {},
   "outputs": [],
   "source": [
    "import pandas as pd\n",
    "from finta import TA\n",
    "import numpy as np\n",
    "from pathlib import Path"
   ]
  },
  {
   "cell_type": "code",
   "execution_count": 2,
   "id": "fc854803-6e21-438b-8544-01ab610d614d",
   "metadata": {},
   "outputs": [],
   "source": [
    "#yahoo finance stock data (for longer timeframe)\n",
    "import yfinance as yf\n",
    "\n",
    "def stock_df(ticker, start, end):\n",
    "    stock = yf.Ticker(ticker)\n",
    "    stock_df = stock.history(start = start, end = end)\n",
    "    return stock_df\n",
    "\n",
    "start = pd.to_datetime('2015-01-01')\n",
    "end = pd.to_datetime('today')\n",
    "                     \n",
    "spy_df = stock_df('SPY', start, end)"
   ]
  },
  {
   "cell_type": "code",
   "execution_count": 3,
   "id": "2752a659-ca7d-4f3b-b7f1-0c0686dcf5a9",
   "metadata": {},
   "outputs": [],
   "source": [
    "spy_df[\"Actual Returns\"] = spy_df[\"Close\"].pct_change()\n",
    "spy_df.dropna(inplace=True)"
   ]
  },
  {
   "cell_type": "code",
   "execution_count": 4,
   "id": "b3a6518c-d237-4ea7-8df7-368d7c889644",
   "metadata": {},
   "outputs": [],
   "source": [
    "spy_df[\"RSI\"] = TA.RSI(spy_df, 14)\n",
    "spy_df[\"CCI\"] = TA.CCI(spy_df, 14)\n",
    "spy_df[\"ROC\"] = TA.ROC(spy_df, 20)\n",
    "spy_df[\"STO\"] = TA.STOCH(spy_df)\n",
    "spy_df.dropna(inplace=True)\n"
   ]
  },
  {
   "cell_type": "code",
   "execution_count": 5,
   "id": "b617391b-657b-492f-981d-b971f28962a8",
   "metadata": {},
   "outputs": [],
   "source": [
    "X = spy_df[['RSI', 'CCI', 'ROC', 'STO']].shift().dropna().copy()\n",
    "\n",
    "spy_df['Signal'] = 0.0\n",
    "\n",
    "spy_df.loc[(spy_df['Actual Returns'] >= 0), 'Signal'] = 1\n",
    "# Generate signal to hold in case profits does not exceed transaction costs (less than 1% gain)\n",
    "spy_df.loc[(spy_df['Actual Returns'] < 0.01), 'Signal'] = 0\n",
    "# Generate signal to sell stock short\n",
    "spy_df.loc[(spy_df['Actual Returns'] < 0), 'Signal'] = -1\n",
    "\n",
    "\n",
    "\n",
    "y = spy_df['Signal']"
   ]
  },
  {
   "cell_type": "code",
   "execution_count": 6,
   "id": "2e48748c-e58c-4008-959d-813bc911e1f2",
   "metadata": {},
   "outputs": [
    {
     "name": "stdout",
     "output_type": "stream",
     "text": [
      "2015-02-04 00:00:00\n",
      "2015-05-04 00:00:00\n"
     ]
    }
   ],
   "source": [
    "# Import the neccessary Date function\n",
    "from pandas.tseries.offsets import DateOffset\n",
    "\n",
    "# Use the following code to select the start of the training period: `training_begin = X.index.min()`\n",
    "training_begin = X.index.min()\n",
    "print(training_begin)\n",
    "\n",
    "# Use the following code to select the ending period for the training data: `training_end = X.index.min() + DateOffset(months=3)`\n",
    "training_end = X.index.min() + DateOffset(months=3)\n",
    "print(training_end)\n",
    "\n",
    "# Generate the X_train and y_train DataFrames using loc to select the rows from `training_begin` up to `training_end`\n",
    "# Hint: Use `loc[training_begin:training_end]` for X_train and y_train\n",
    "X_train = X.loc[training_begin:training_end]\n",
    "y_train = y.loc[training_begin:training_end]\n",
    "\n",
    "# Generate the X_test and y_test DataFrames using loc to select from `training_end` to the last row in the DataFrame.\n",
    "# Hint: Use `loc[training_end:]` for X_test and y_test\n",
    "X_test = X.loc[training_end:]\n",
    "y_test = y.loc[training_end:]\n",
    "\n",
    "# Use StandardScaler to scale the X_train and X_test data.\n",
    "from sklearn.preprocessing import StandardScaler\n",
    "scaler = StandardScaler()\n",
    "X_scaler = scaler.fit(X_train)\n",
    "X_train_scaled = X_scaler.transform(X_train)\n",
    "X_test_scaled = X_scaler.transform(X_test)\n",
    "\n",
    "from imblearn.over_sampling import RandomOverSampler\n",
    "# Use RandomOverSampler to resample the datase using random_state=1\n",
    "ros = RandomOverSampler(random_state=1)\n",
    "X_resampled, y_resampled = ros.fit_resample(X_train_scaled, y_train)"
   ]
  },
  {
   "cell_type": "code",
   "execution_count": 7,
   "id": "259f925e-26a8-46ad-8631-bc414da5e193",
   "metadata": {},
   "outputs": [
    {
     "name": "stdout",
     "output_type": "stream",
     "text": [
      "              precision    recall  f1-score   support\n",
      "\n",
      "        -1.0       0.62      0.43      0.51        30\n",
      "         0.0       0.57      0.53      0.55        30\n",
      "         1.0       0.59      0.80      0.68        30\n",
      "\n",
      "    accuracy                           0.59        90\n",
      "   macro avg       0.59      0.59      0.58        90\n",
      "weighted avg       0.59      0.59      0.58        90\n",
      "\n"
     ]
    }
   ],
   "source": [
    "# Create the classifier model.\n",
    "from sklearn.svm import SVC\n",
    "model = SVC()\n",
    " \n",
    "# Fit the model to the data using X_train_scaled and y_train\n",
    "model = model.fit(X_resampled, y_resampled)\n",
    "\n",
    "# Use the trained model to predict the trading signals for the training data.\n",
    "training_signal_predictions = model.predict(X_resampled)\n",
    "\n",
    "# Evaluate the model using a classification report\n",
    "from sklearn.metrics import classification_report\n",
    "training_report = classification_report(y_resampled, training_signal_predictions)\n",
    "print(training_report)"
   ]
  },
  {
   "cell_type": "code",
   "execution_count": 8,
   "id": "a98361e1-0f40-420a-b29e-04c09a62cf03",
   "metadata": {},
   "outputs": [],
   "source": [
    "# Use the trained model to predict the trading signals for the testing data.\n",
    "testing_signal_predictions = model.predict(X_test_scaled)"
   ]
  },
  {
   "cell_type": "code",
   "execution_count": 9,
   "id": "771f7f66-24be-4b0a-99e6-0108b0e22835",
   "metadata": {},
   "outputs": [
    {
     "name": "stdout",
     "output_type": "stream",
     "text": [
      "              precision    recall  f1-score   support\n",
      "\n",
      "        -1.0       0.45      0.44      0.44       746\n",
      "         0.0       0.42      0.32      0.36       732\n",
      "         1.0       0.21      0.43      0.29       210\n",
      "\n",
      "    accuracy                           0.38      1688\n",
      "   macro avg       0.36      0.39      0.36      1688\n",
      "weighted avg       0.41      0.38      0.39      1688\n",
      "\n"
     ]
    }
   ],
   "source": [
    "# Evaluate the model's ability to predict the trading signal for the testing data using a classification report\n",
    "training_report = classification_report(y_test, testing_signal_predictions)\n",
    "print(training_report)"
   ]
  },
  {
   "cell_type": "code",
   "execution_count": 10,
   "id": "cad8b526-655b-4bc2-aced-b6092438d943",
   "metadata": {},
   "outputs": [
    {
     "data": {
      "text/plain": [
       "-1.0    723\n",
       " 0.0    544\n",
       " 1.0    421\n",
       "Name: predicted_returns, dtype: int64"
      ]
     },
     "execution_count": 10,
     "metadata": {},
     "output_type": "execute_result"
    }
   ],
   "source": [
    "# Create a new empty predictions DataFrame using code provided below.\n",
    "predictions_df = pd.DataFrame(index=X_test.index)\n",
    "predictions_df['predicted_returns'] = testing_signal_predictions\n",
    "predictions_df['predicted_returns'].value_counts()"
   ]
  },
  {
   "cell_type": "code",
   "execution_count": 11,
   "id": "1b7fb581-df8d-4397-9e3b-f4c83f2e4d97",
   "metadata": {},
   "outputs": [
    {
     "data": {
      "text/html": [
       "<div>\n",
       "<style scoped>\n",
       "    .dataframe tbody tr th:only-of-type {\n",
       "        vertical-align: middle;\n",
       "    }\n",
       "\n",
       "    .dataframe tbody tr th {\n",
       "        vertical-align: top;\n",
       "    }\n",
       "\n",
       "    .dataframe thead th {\n",
       "        text-align: right;\n",
       "    }\n",
       "</style>\n",
       "<table border=\"1\" class=\"dataframe\">\n",
       "  <thead>\n",
       "    <tr style=\"text-align: right;\">\n",
       "      <th></th>\n",
       "      <th>predicted_returns</th>\n",
       "      <th>actual_returns</th>\n",
       "      <th>trading_algorithm_returns</th>\n",
       "    </tr>\n",
       "    <tr>\n",
       "      <th>Date</th>\n",
       "      <th></th>\n",
       "      <th></th>\n",
       "      <th></th>\n",
       "    </tr>\n",
       "  </thead>\n",
       "  <tbody>\n",
       "    <tr>\n",
       "      <th>2015-05-04</th>\n",
       "      <td>0.0</td>\n",
       "      <td>0.002847</td>\n",
       "      <td>0.000000</td>\n",
       "    </tr>\n",
       "    <tr>\n",
       "      <th>2015-05-05</th>\n",
       "      <td>0.0</td>\n",
       "      <td>-0.011452</td>\n",
       "      <td>-0.000000</td>\n",
       "    </tr>\n",
       "    <tr>\n",
       "      <th>2015-05-06</th>\n",
       "      <td>1.0</td>\n",
       "      <td>-0.004117</td>\n",
       "      <td>-0.004117</td>\n",
       "    </tr>\n",
       "    <tr>\n",
       "      <th>2015-05-07</th>\n",
       "      <td>1.0</td>\n",
       "      <td>0.003990</td>\n",
       "      <td>0.003990</td>\n",
       "    </tr>\n",
       "    <tr>\n",
       "      <th>2015-05-08</th>\n",
       "      <td>1.0</td>\n",
       "      <td>0.013166</td>\n",
       "      <td>0.013166</td>\n",
       "    </tr>\n",
       "    <tr>\n",
       "      <th>...</th>\n",
       "      <td>...</td>\n",
       "      <td>...</td>\n",
       "      <td>...</td>\n",
       "    </tr>\n",
       "    <tr>\n",
       "      <th>2022-01-06</th>\n",
       "      <td>1.0</td>\n",
       "      <td>-0.000939</td>\n",
       "      <td>-0.000939</td>\n",
       "    </tr>\n",
       "    <tr>\n",
       "      <th>2022-01-07</th>\n",
       "      <td>1.0</td>\n",
       "      <td>-0.003954</td>\n",
       "      <td>-0.003954</td>\n",
       "    </tr>\n",
       "    <tr>\n",
       "      <th>2022-01-10</th>\n",
       "      <td>1.0</td>\n",
       "      <td>-0.001244</td>\n",
       "      <td>-0.001244</td>\n",
       "    </tr>\n",
       "    <tr>\n",
       "      <th>2022-01-11</th>\n",
       "      <td>1.0</td>\n",
       "      <td>0.009108</td>\n",
       "      <td>0.009108</td>\n",
       "    </tr>\n",
       "    <tr>\n",
       "      <th>2022-01-12</th>\n",
       "      <td>1.0</td>\n",
       "      <td>0.002704</td>\n",
       "      <td>0.002704</td>\n",
       "    </tr>\n",
       "  </tbody>\n",
       "</table>\n",
       "<p>1688 rows × 3 columns</p>\n",
       "</div>"
      ],
      "text/plain": [
       "            predicted_returns  actual_returns  trading_algorithm_returns\n",
       "Date                                                                    \n",
       "2015-05-04                0.0        0.002847                   0.000000\n",
       "2015-05-05                0.0       -0.011452                  -0.000000\n",
       "2015-05-06                1.0       -0.004117                  -0.004117\n",
       "2015-05-07                1.0        0.003990                   0.003990\n",
       "2015-05-08                1.0        0.013166                   0.013166\n",
       "...                       ...             ...                        ...\n",
       "2022-01-06                1.0       -0.000939                  -0.000939\n",
       "2022-01-07                1.0       -0.003954                  -0.003954\n",
       "2022-01-10                1.0       -0.001244                  -0.001244\n",
       "2022-01-11                1.0        0.009108                   0.009108\n",
       "2022-01-12                1.0        0.002704                   0.002704\n",
       "\n",
       "[1688 rows x 3 columns]"
      ]
     },
     "execution_count": 11,
     "metadata": {},
     "output_type": "execute_result"
    }
   ],
   "source": [
    "# Add in actual returns and calculate trading returns\n",
    "predictions_df['actual_returns'] = spy_df['Actual Returns']\n",
    "predictions_df['trading_algorithm_returns'] = predictions_df['actual_returns'] * predictions_df['predicted_returns']\n",
    "predictions_df"
   ]
  },
  {
   "cell_type": "code",
   "execution_count": 12,
   "id": "2abfe300-7f8c-460e-b27a-03551b3fb684",
   "metadata": {},
   "outputs": [
    {
     "data": {
      "text/plain": [
       "<AxesSubplot:xlabel='Date'>"
      ]
     },
     "execution_count": 12,
     "metadata": {},
     "output_type": "execute_result"
    },
    {
     "data": {
      "image/png": "[encoded data removed]",
      "text/plain": [
       "<Figure size 432x288 with 1 Axes>"
      ]
     },
     "metadata": {
      "needs_background": "light"
     },
     "output_type": "display_data"
    }
   ],
   "source": [
    "# Calculate and plot the cumulative returns for the `actual_returns` and the `trading_algorithm_returns`\n",
    "(1 + predictions_df[['actual_returns', 'trading_algorithm_returns']]).cumprod().plot()"
   ]
  },
  {
   "cell_type": "code",
   "execution_count": null,
   "id": "fc22ac85-cf25-4de7-8255-d8f4d9e29cba",
   "metadata": {},
   "outputs": [],
   "source": []
  }
 ],
 "metadata": {
  "kernelspec": {
   "display_name": "Python 3",
   "language": "python",
   "name": "python3"
  },
  "language_info": {
   "codemirror_mode": {
    "name": "ipython",
    "version": 3
   },
   "file_extension": ".py",
   "mimetype": "text/x-python",
   "name": "python",
   "nbconvert_exporter": "python",
   "pygments_lexer": "ipython3",
   "version": "3.7.10"
  }
 },
 "nbformat": 4,
 "nbformat_minor": 5
}
